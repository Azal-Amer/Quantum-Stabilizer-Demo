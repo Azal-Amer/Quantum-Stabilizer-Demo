{
 "cells": [
  {
   "cell_type": "code",
   "execution_count": 6,
   "metadata": {},
   "outputs": [
    {
     "data": {
      "text/plain": [
       "(array([[1., 0., 0., 0.],\n",
       "        [0., 1., 0., 0.],\n",
       "        [0., 0., 0., 1.],\n",
       "        [0., 0., 1., 0.]]),\n",
       " array([[ 1.,  0.,  0.,  0.],\n",
       "        [ 0.,  1.,  0.,  0.],\n",
       "        [ 0.,  0.,  1.,  0.],\n",
       "        [ 0.,  0.,  0., -1.]]))"
      ]
     },
     "execution_count": 6,
     "metadata": {},
     "output_type": "execute_result"
    }
   ],
   "source": [
    "import numpy as np\n",
    "import matplotlib.pyplot as plt\n",
    "\n",
    "\n",
    "# Defining some baseline functions \n",
    "# Pauli Matrices\n",
    "X = np.array([\n",
    "    [0,1],\n",
    "    [1,0]\n",
    "])\n",
    "Y = np.array([\n",
    "    [0,0+-1j],\n",
    "    [0+1j,0]\n",
    "])\n",
    "Z = np.array([\n",
    "    [1,0],\n",
    "    [0,-1]\n",
    "])\n",
    "I = np.eye(2)\n",
    "\n",
    "# useful construction matrices\n",
    "outerO = np.array([\n",
    "    [1,0],\n",
    "    [0,0]\n",
    "])\n",
    "outer1 = np.array([\n",
    "    [0,0],\n",
    "    [0,1]\n",
    "])\n",
    "\n",
    "# Encoding gates\n",
    "Cx = np.kron(outerO,I)+np.kron(outer1,X)\n",
    "Cz = np.kron(outerO,I)+np.kron(outer1,Z)\n",
    "H = 1/np.sqrt(2)*np.array([\n",
    "    [1,1],\n",
    "    [1,-1]\n",
    "])\n",
    "S = np.array([\n",
    "    [1,0],\n",
    "    [0,0+1j]\n",
    "])\n",
    "\n",
    "Cx,Cz\n"
   ]
  },
  {
   "cell_type": "code",
   "execution_count": 160,
   "metadata": {},
   "outputs": [
    {
     "data": {
      "text/plain": [
       "array([[ 1.,  0.,  0.,  0.],\n",
       "       [ 0.,  1.,  0.,  0.],\n",
       "       [ 0.,  0.,  1.,  0.],\n",
       "       [ 0.,  0.,  0., -1.]])"
      ]
     },
     "execution_count": 160,
     "metadata": {},
     "output_type": "execute_result"
    }
   ],
   "source": [
    "sigma = [X,Z,I,X@Z,Z@X]\n",
    "sigmaLabels = ['X','Z','I','XZ','ZX']\n",
    "# Remember that they're all their own inverses\n",
    "# So I don't need to repeat myself\n",
    "\n",
    "\n",
    "# I need to make a function which given some operator O, \n",
    "# will return what combination of the pauli matrices and kron it is\n",
    "def conjugate(O):\n",
    "    for i in range(len(sigma)):\n",
    "        for j in range(len(sigma)):\n",
    "            newOperator = np.kron(sigma[i],sigma[j])\n",
    "            combination = O@np.linalg.inv(newOperator) -np.eye(4) \n",
    "            if not combination.any(): \n",
    "                print(sigmaLabels[i],sigmaLabels[j])\n",
    "                return\n",
    "\n",
    "inputDudes = np.kron(X,X)\n",
    "gate = Cz\n",
    "\n",
    "# Now I need to isolate the conjugate operator\n",
    "conjOp = gate.conj().T@inputDudes@gate\n",
    "gate\n"
   ]
  },
  {
   "cell_type": "code",
   "execution_count": 161,
   "metadata": {},
   "outputs": [
    {
     "data": {
      "text/plain": [
       "array([[ 0.,  0.,  0., -1.],\n",
       "       [ 0.,  0.,  1.,  0.],\n",
       "       [ 0.,  1.,  0.,  0.],\n",
       "       [-1.,  0.,  0.,  0.]])"
      ]
     },
     "execution_count": 161,
     "metadata": {},
     "output_type": "execute_result"
    }
   ],
   "source": [
    "conjOp"
   ]
  },
  {
   "cell_type": "code",
   "execution_count": 162,
   "metadata": {},
   "outputs": [
    {
     "name": "stdout",
     "output_type": "stream",
     "text": [
      "XZ ZX\n"
     ]
    }
   ],
   "source": [
    "conjugate(conjOp) "
   ]
  },
  {
   "cell_type": "code",
   "execution_count": null,
   "metadata": {},
   "outputs": [],
   "source": []
  }
 ],
 "metadata": {
  "kernelspec": {
   "display_name": "Python 3",
   "language": "python",
   "name": "python3"
  },
  "language_info": {
   "codemirror_mode": {
    "name": "ipython",
    "version": 3
   },
   "file_extension": ".py",
   "mimetype": "text/x-python",
   "name": "python",
   "nbconvert_exporter": "python",
   "pygments_lexer": "ipython3",
   "version": "3.10.0"
  }
 },
 "nbformat": 4,
 "nbformat_minor": 2
}
